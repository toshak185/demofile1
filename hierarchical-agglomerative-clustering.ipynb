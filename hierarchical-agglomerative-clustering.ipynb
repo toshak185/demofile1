{
 "cells": [
  {
   "cell_type": "markdown",
   "metadata": {
    "papermill": {
     "duration": 0.031467,
     "end_time": "2020-11-11T14:14:24.101788",
     "exception": false,
     "start_time": "2020-11-11T14:14:24.070321",
     "status": "completed"
    },
    "tags": []
   },
   "source": [
    "# Hierarchical agglomerative clustering"
   ]
  },
  {
   "cell_type": "markdown",
   "metadata": {
    "papermill": {
     "duration": 0.028846,
     "end_time": "2020-11-11T14:14:24.160527",
     "exception": false,
     "start_time": "2020-11-11T14:14:24.131681",
     "status": "completed"
    },
    "tags": []
   },
   "source": [
    "<justify>Hierarchical clustering algorithms are either top-down or bottom-up. Bottomup algorithms treat each document as a singleton cluster at the outset and then successively merge (or agglomerate) pairs of clusters until all clusters\n",
    "have been merged into a single cluster that contains all documents. Bottom up hierarchical clustering is therefore called hierarchical agglomerative clustering or HAC. Top-down clustering requires a method for splitting a cluster. HAC It proceeds by splitting clusters recursively until individual documents are reached. </justify>"
   ]
  },
  {
   "cell_type": "markdown",
   "metadata": {
    "papermill": {
     "duration": 0.029801,
     "end_time": "2020-11-11T14:14:24.219964",
     "exception": false,
     "start_time": "2020-11-11T14:14:24.190163",
     "status": "completed"
    },
    "tags": []
   },
   "source": [
    "![https://python-graph-gallery.com/wp-content/uploads/401_custom_Dendrogram1.png](https://python-graph-gallery.com/wp-content/uploads/401_custom_Dendrogram1.png)\n",
    " <center>Figure. 1.Dendogram</center>"
   ]
  },
  {
   "cell_type": "markdown",
   "metadata": {
    "papermill": {
     "duration": 0.028881,
     "end_time": "2020-11-11T14:14:24.277782",
     "exception": false,
     "start_time": "2020-11-11T14:14:24.248901",
     "status": "completed"
    },
    "tags": []
   },
   "source": [
    "An HAC clustering is typically visualized as a dendrogram as shown in Figure .1. Each merge is represented by a horizontal line. The y-coordinate of the horizontal line is the similarity of the two clusters that were merged, where documents are viewed as singleton clusters. "
   ]
  },
  {
   "cell_type": "markdown",
   "metadata": {
    "papermill": {
     "duration": 0.028736,
     "end_time": "2020-11-11T14:14:24.335556",
     "exception": false,
     "start_time": "2020-11-11T14:14:24.306820",
     "status": "completed"
    },
    "tags": []
   },
   "source": [
    "# Agglomerative Technic\n"
   ]
  },
  {
   "cell_type": "markdown",
   "metadata": {
    "papermill": {
     "duration": 0.028674,
     "end_time": "2020-11-11T14:14:24.393024",
     "exception": false,
     "start_time": "2020-11-11T14:14:24.364350",
     "status": "completed"
    },
    "tags": []
   },
   "source": [
    "## Single-link"
   ]
  },
  {
   "cell_type": "markdown",
   "metadata": {
    "papermill": {
     "duration": 0.030085,
     "end_time": "2020-11-11T14:14:24.452349",
     "exception": false,
     "start_time": "2020-11-11T14:14:24.422264",
     "status": "completed"
    },
    "tags": []
   },
   "source": [
    "<justify>In single-link clustering or single-linkage clustering, the similarity of two clusters is the similarity of their most similar members (see Figure. 2). This single-link merge criterion is local. We pay attention solely to the area where the two clusters come closest to each other. Other, more distant parts of the cluster and the clusters’ overall structure are not taken into account.</justify>\n",
    "\n",
    "<img src=\"https://1.bp.blogspot.com/-FbHLDDIzKrw/X54d6LznF1I/AAAAAAAAGnA/JR3tK75cQ7cPYfJLjifuj7r8JnJ5HwlAwCLcBGAsYHQ/s320/single%2Blink%2BHAC.PNG\" width=\"450\">\n",
    "\n",
    "<center>Figure. 2. Single Link : Minimum Similarity"
   ]
  },
  {
   "cell_type": "markdown",
   "metadata": {
    "papermill": {
     "duration": 0.028837,
     "end_time": "2020-11-11T14:14:24.510545",
     "exception": false,
     "start_time": "2020-11-11T14:14:24.481708",
     "status": "completed"
    },
    "tags": []
   },
   "source": [
    "## Complete-link clustering"
   ]
  },
  {
   "cell_type": "markdown",
   "metadata": {
    "papermill": {
     "duration": 0.028802,
     "end_time": "2020-11-11T14:14:24.568600",
     "exception": false,
     "start_time": "2020-11-11T14:14:24.539798",
     "status": "completed"
    },
    "tags": []
   },
   "source": [
    "<justify>In complete-link clustering or complete-linkage clustering, the similarity of two  clusters is the similarity of their most dissimilar members (see Figure 3. This is equivalent to choosing the cluster pair whose merge has the smallest diameter. This complete-link merge criterion is non-local; the entire structure of the clustering can influence merge decisions. This results in a preference for compact clusters with small diameters over long, straggly clusters, but also causes sensitivity to outliers. A single document far from the center can increase diameters of candidate merge clusters dramatically and completely change the final clustering</justify>\n",
    "\n",
    "\n",
    "<img src=\"https://1.bp.blogspot.com/-CdvmBikHl-4/X54eys7GmPI/AAAAAAAAGnI/7Ot7I3jVBS4IHaS0CVfJlqiJEQ5wnyB3QCLcBGAsYHQ/s320/comple%2Blink.PNG\" width=\"450\">\n",
    "\n",
    "<center>Figure. 3.complete-link: minimum similarity</center>"
   ]
  },
  {
   "cell_type": "markdown",
   "metadata": {
    "papermill": {
     "duration": 0.028856,
     "end_time": "2020-11-11T14:14:24.626674",
     "exception": false,
     "start_time": "2020-11-11T14:14:24.597818",
     "status": "completed"
    },
    "tags": []
   },
   "source": [
    "<img src=\"https://1.bp.blogspot.com/-mionHirutig/X54mIqkdPyI/AAAAAAAAGnU/WoI4AmCRzCMe8g_CuxVzwRmlcG9Vem0NACLcBGAsYHQ/s320/Centroid%2Baverage%2Binter%2Bsimilarity.PNG\" width=\"450\">\n",
    "\n",
    "<center>Figure. 4. centroid: average inter-similarity</center>\n",
    "\n",
    "\n",
    "\n",
    "<img src=\"https://1.bp.blogspot.com/-967l7xcrFBc/X54mIjpFOfI/AAAAAAAAGnY/yWqlZFWlXYc_0kxS3fGZ3KEjS56yBJ8kgCLcBGAsYHQ/s320/Group-average%2Baverage%2Bof%2Ball%2Bsimilarities.PNG\" width=\"430\">\n",
    "\n",
    "<center>Figure. 5.Group-average: average of all similarities</center>\n"
   ]
  },
  {
   "cell_type": "markdown",
   "metadata": {
    "papermill": {
     "duration": 0.028687,
     "end_time": "2020-11-11T14:14:24.684849",
     "exception": false,
     "start_time": "2020-11-11T14:14:24.656162",
     "status": "completed"
    },
    "tags": []
   },
   "source": [
    "The different notions of cluster similarity used by the four HAC algorithms (Figure 2 - Figure 5). An inter-similarity is a similarity between two documents from different clusters.\n",
    "\n",
    "\n",
    "<img src=\"https://1.bp.blogspot.com/-xpA2ViC7FD4/X54rh1ybghI/AAAAAAAAGnw/M8FjmFue12knAxekl6-W_a-3ihsDHFOGwCLcBGAsYHQ/w588-h256/A%2Bsingle-link%2B%2528left%2529%2Band%2Bcomplete-link%2B%2528right%2529.PNG\" width=\"500\">\n",
    "\n",
    "<center>Figure. 6. single-link (left) and complete-link (right) clustering of eight documents. The ellipses correspond to successive clustering stages. Left: The single-linksimilarity of the two upper two-point clusters is the similarity of d2 and d3 (solid\n",
    "line), which is greater than the single-link similarity of the two left two-point clusters (dashed line). Right: The complete-link similarity of the two upper two-point clusters is the similarity of d1 and d4 (dashed line), which is smaller than the complete-link\n",
    "similarity of the two left two-point clusters (solid line).</center>\n",
    "\n",
    "\n",
    "<justify>Figure. 6. depicts a single-link and a complete-link clustering of eight documents. The first four steps, each producing a cluster consisting of a pair of two documents, are identical. Then single-link clustering joins the upper two pairs (and after that the lower two pairs) because on the maximumsimilarity definition of cluster similarity, those two clusters are closest. Complete link clustering joins the left two pairs (and then the right two pairs) because those are the closest pairs according to the minimum-similarity definition of\n",
    "cluster similarity.</justify>"
   ]
  },
  {
   "cell_type": "markdown",
   "metadata": {
    "papermill": {
     "duration": 0.02838,
     "end_time": "2020-11-11T14:14:24.742229",
     "exception": false,
     "start_time": "2020-11-11T14:14:24.713849",
     "status": "completed"
    },
    "tags": []
   },
   "source": [
    "## Space and Time Complexity of Hierarchical clustering Technique:\n",
    "\n",
    "According to [2] Space and Time Complexity of Hierarchical clustering Technique are described below:\n",
    "\n",
    "* <justify>Space complexity: The space required for the Hierarchical clustering Technique is very high when the number of data points are high as we need to store the similarity matrix in the RAM. The space complexity is the order of the square of n.</justify>\n",
    "\n",
    "* **Space complexit**y = O(n²) where n is the number of data points.\n",
    "* Time complexity: Since we’ve to perform n iterations and in each iteration, we need to update the similarity matrix and restore the matrix, the time complexity is also very high. The time complexity is the order of the cube of n.\n",
    "\n",
    "* Time complexity = O(n³) where n is the number of data points.\n",
    "\n",
    "# Limitations of Hierarchical clustering Technique:\n",
    "\n",
    "* There is no mathematical objective for Hierarchical clustering.\n",
    "* All the approaches to calculate the similarity between clusters has its own disadvantages.\n",
    "* High space and time complexity for Hierarchical clustering. Hence this clustering algorithm cannot be used when we have huge data."
   ]
  },
  {
   "cell_type": "markdown",
   "metadata": {
    "papermill": {
     "duration": 0.029023,
     "end_time": "2020-11-11T14:14:24.799879",
     "exception": false,
     "start_time": "2020-11-11T14:14:24.770856",
     "status": "completed"
    },
    "tags": []
   },
   "source": [
    "# How to Implementing Hierarchical agglomerative clustering ?\n",
    "\n",
    "1. At the start, treat each data point as one cluster. Therefore, the number of clusters at the start will be K, while K is an integer representing the number of data points.\n",
    "1. Form a cluster by joining the two closest data points resulting in K-1 clusters.\n",
    "1. Form more clusters by joining the two closest clusters resulting in K-2 clusters.\n",
    "1. Repeat the above three steps until one big cluster is formed.\n",
    "1. Once single cluster is formed, dendrograms are used to divide into multiple clusters depending upon the problem. We will study the concept of dendrogram in detail in an upcoming section.\n",
    "\n",
    "There are different ways to find distance between the clusters. The distance itself can be Euclidean or Manhattan distance. Following are some of the options to measure distance between two clusters:\n",
    "\n",
    "1. Measure the distance between the closes points of two clusters.\n",
    "1. Measure the distance between the farthest points of two clusters.\n",
    "1. Measure the distance between the centroids of two clusters.\n",
    "1. 1. Measure the distance between all possible combination of points between the two clusters and take the mean."
   ]
  },
  {
   "cell_type": "markdown",
   "metadata": {
    "papermill": {
     "duration": 0.028758,
     "end_time": "2020-11-11T14:14:24.857774",
     "exception": false,
     "start_time": "2020-11-11T14:14:24.829016",
     "status": "completed"
    },
    "tags": []
   },
   "source": [
    "# Example 1: cluster the X NumPy array of data points"
   ]
  },
  {
   "cell_type": "code",
   "execution_count": 1,
   "metadata": {
    "execution": {
     "iopub.execute_input": "2020-11-11T14:14:24.925683Z",
     "iopub.status.busy": "2020-11-11T14:14:24.924763Z",
     "iopub.status.idle": "2020-11-11T14:14:24.927972Z",
     "shell.execute_reply": "2020-11-11T14:14:24.928500Z"
    },
    "papermill": {
     "duration": 0.042331,
     "end_time": "2020-11-11T14:14:24.928669",
     "exception": false,
     "start_time": "2020-11-11T14:14:24.886338",
     "status": "completed"
    },
    "tags": []
   },
   "outputs": [],
   "source": [
    "import numpy as np\n",
    "\n",
    "X = np.array([[5,3],\n",
    "    [10,15],\n",
    "    [15,12],\n",
    "    [24,10],\n",
    "    [30,30],\n",
    "    [85,70],\n",
    "    [71,80],\n",
    "    [60,78],\n",
    "    [70,55],\n",
    "    [80,91],])"
   ]
  },
  {
   "cell_type": "markdown",
   "metadata": {
    "papermill": {
     "duration": 0.02882,
     "end_time": "2020-11-11T14:14:24.987154",
     "exception": false,
     "start_time": "2020-11-11T14:14:24.958334",
     "status": "completed"
    },
    "tags": []
   },
   "source": [
    "Let's plot the above data points\n",
    "\n"
   ]
  },
  {
   "cell_type": "code",
   "execution_count": 2,
   "metadata": {
    "execution": {
     "iopub.execute_input": "2020-11-11T14:14:25.061657Z",
     "iopub.status.busy": "2020-11-11T14:14:25.061013Z",
     "iopub.status.idle": "2020-11-11T14:14:25.301716Z",
     "shell.execute_reply": "2020-11-11T14:14:25.302185Z"
    },
    "papermill": {
     "duration": 0.286123,
     "end_time": "2020-11-11T14:14:25.302319",
     "exception": false,
     "start_time": "2020-11-11T14:14:25.016196",
     "status": "completed"
    },
    "tags": []
   },
   "outputs": [
    {
     "data": {
      "image/png": "[encoded data removed]",
      "text/plain": [
       "<Figure size 720x504 with 1 Axes>"
      ]
     },
     "metadata": {
      "needs_background": "light"
     },
     "output_type": "display_data"
    }
   ],
   "source": [
    "import matplotlib.pyplot as plt\n",
    "\n",
    "labels = range(1, 11)\n",
    "plt.figure(figsize=(10, 7))\n",
    "plt.subplots_adjust(bottom=0.1)\n",
    "plt.scatter(X[:,0],X[:,1], label='True Position')\n",
    "\n",
    "for label, x, y in zip(labels, X[:, 0], X[:, 1]):\n",
    "    plt.annotate(\n",
    "        label,\n",
    "        xy=(x, y), xytext=(-3, 3),\n",
    "        textcoords='offset points', ha='right', va='bottom')\n",
    "plt.show()\n",
    "\n",
    "\n",
    "\n"
   ]
  },
  {
   "cell_type": "markdown",
   "metadata": {
    "papermill": {
     "duration": 0.029961,
     "end_time": "2020-11-11T14:14:25.362560",
     "exception": false,
     "start_time": "2020-11-11T14:14:25.332599",
     "status": "completed"
    },
    "tags": []
   },
   "source": [
    "<left>Figure. 7.</left>\n"
   ]
  },
  {
   "cell_type": "markdown",
   "metadata": {
    "papermill": {
     "duration": 0.029579,
     "end_time": "2020-11-11T14:14:25.422235",
     "exception": false,
     "start_time": "2020-11-11T14:14:25.392656",
     "status": "completed"
    },
    "tags": []
   },
   "source": [
    "As you can see in figure 7. above we can see two clusters: the first at the bottom left consisting of points 1-5 while the second at the top right consisting of points 6-10."
   ]
  },
  {
   "cell_type": "markdown",
   "metadata": {
    "papermill": {
     "duration": 0.029805,
     "end_time": "2020-11-11T14:14:25.481631",
     "exception": false,
     "start_time": "2020-11-11T14:14:25.451826",
     "status": "completed"
    },
    "tags": []
   },
   "source": [
    "let's draw the dendrograms for our data points"
   ]
  },
  {
   "cell_type": "code",
   "execution_count": 3,
   "metadata": {
    "execution": {
     "iopub.execute_input": "2020-11-11T14:14:25.549398Z",
     "iopub.status.busy": "2020-11-11T14:14:25.548675Z",
     "iopub.status.idle": "2020-11-11T14:14:26.176908Z",
     "shell.execute_reply": "2020-11-11T14:14:26.176365Z"
    },
    "papermill": {
     "duration": 0.665295,
     "end_time": "2020-11-11T14:14:26.177020",
     "exception": false,
     "start_time": "2020-11-11T14:14:25.511725",
     "status": "completed"
    },
    "tags": []
   },
   "outputs": [
    {
     "data": {
      "image/png": "[encoded data removed]",
      "text/plain": [
       "<Figure size 720x504 with 1 Axes>"
      ]
     },
     "metadata": {
      "needs_background": "light"
     },
     "output_type": "display_data"
    }
   ],
   "source": [
    "from scipy.cluster.hierarchy import dendrogram, linkage\n",
    "from matplotlib import pyplot as plt\n",
    "\n",
    "linked = linkage(X, 'single')\n",
    "\n",
    "labelList = range(1, 11)\n",
    "\n",
    "plt.figure(figsize=(10, 7))\n",
    "dendrogram(linked,\n",
    "            orientation='top',\n",
    "            labels=labelList,\n",
    "            distance_sort='descending',\n",
    "            show_leaf_counts=True)\n",
    "plt.show()\n",
    "\n"
   ]
  },
  {
   "cell_type": "markdown",
   "metadata": {
    "papermill": {
     "duration": 0.031078,
     "end_time": "2020-11-11T14:14:26.239070",
     "exception": false,
     "start_time": "2020-11-11T14:14:26.207992",
     "status": "completed"
    },
    "tags": []
   },
   "source": [
    "<left>Figure. 8.</left>\n"
   ]
  },
  {
   "cell_type": "markdown",
   "metadata": {
    "papermill": {
     "duration": 0.031173,
     "end_time": "2020-11-11T14:14:26.301851",
     "exception": false,
     "start_time": "2020-11-11T14:14:26.270678",
     "status": "completed"
    },
    "tags": []
   },
   "source": [
    "The algorithm starts by finding the two points that are closest to each other based on Euclidean distance. If we look back at Figure 7, we can see that points 2 and 3 are closest to each other while points 7 and 8 are closes to each other. Therefore a cluster will be formed between these two points first. In Figure 8, you can see that the dendrograms have been created joining points 2 with 3, and 8 with 7. The vertical height of the dendrogram shows the Euclidean distances between points. From Graph2, it can be seen that the Euclidean distance between points 8 and 7 is greater than the distance between points 2 and 3. The next step is to join the cluster formed by joining two points to the next nearest cluster or point which in turn results in another cluster. "
   ]
  },
  {
   "cell_type": "markdown",
   "metadata": {
    "papermill": {
     "duration": 0.030853,
     "end_time": "2020-11-11T14:14:26.363743",
     "exception": false,
     "start_time": "2020-11-11T14:14:26.332890",
     "status": "completed"
    },
    "tags": []
   },
   "source": [
    "## Example 2 : Practice with Anime Dataset"
   ]
  },
  {
   "cell_type": "code",
   "execution_count": 4,
   "metadata": {
    "_cell_guid": "b1076dfc-b9ad-4769-8c92-a6c4dae69d19",
    "_uuid": "8f2839f25d086af736a60e9eeb907d3b93b6e0e5",
    "execution": {
     "iopub.execute_input": "2020-11-11T14:14:26.438200Z",
     "iopub.status.busy": "2020-11-11T14:14:26.435044Z",
     "iopub.status.idle": "2020-11-11T14:14:27.855643Z",
     "shell.execute_reply": "2020-11-11T14:14:27.854747Z"
    },
    "papermill": {
     "duration": 1.460891,
     "end_time": "2020-11-11T14:14:27.855754",
     "exception": false,
     "start_time": "2020-11-11T14:14:26.394863",
     "status": "completed"
    },
    "tags": []
   },
   "outputs": [],
   "source": [
    "import numpy as np\n",
    "import pylab as pl\n",
    "import pandas as pd\n",
    "import matplotlib.pyplot as plt \n",
    "%matplotlib inline\n",
    "import seaborn as sns\n",
    "from sklearn.utils import shuffle\n",
    "from matplotlib import pyplot as plt\n",
    "from scipy.cluster.hierarchy import dendrogram\n",
    "from sklearn.datasets import load_iris\n",
    "from sklearn.cluster import AgglomerativeClustering"
   ]
  },
  {
   "cell_type": "code",
   "execution_count": 5,
   "metadata": {
    "execution": {
     "iopub.execute_input": "2020-11-11T14:14:27.927251Z",
     "iopub.status.busy": "2020-11-11T14:14:27.926587Z",
     "iopub.status.idle": "2020-11-11T14:14:30.344880Z",
     "shell.execute_reply": "2020-11-11T14:14:30.344307Z"
    },
    "papermill": {
     "duration": 2.457866,
     "end_time": "2020-11-11T14:14:30.344995",
     "exception": false,
     "start_time": "2020-11-11T14:14:27.887129",
     "status": "completed"
    },
    "tags": []
   },
   "outputs": [],
   "source": [
    "anime = pd.read_csv(\"../input/anime-recommendations-database/anime.csv\")\n",
    "rating = pd.read_csv(\"../input/anime-recommendations-database/rating.csv\")"
   ]
  },
  {
   "cell_type": "code",
   "execution_count": 6,
   "metadata": {
    "execution": {
     "iopub.execute_input": "2020-11-11T14:14:30.423793Z",
     "iopub.status.busy": "2020-11-11T14:14:30.417877Z",
     "iopub.status.idle": "2020-11-11T14:14:30.437460Z",
     "shell.execute_reply": "2020-11-11T14:14:30.436766Z"
    },
    "papermill": {
     "duration": 0.060325,
     "end_time": "2020-11-11T14:14:30.437590",
     "exception": false,
     "start_time": "2020-11-11T14:14:30.377265",
     "status": "completed"
    },
    "tags": []
   },
   "outputs": [
    {
     "data": {
      "text/html": [
       "<div>\n",
       "<style scoped>\n",
       "    .dataframe tbody tr th:only-of-type {\n",
       "        vertical-align: middle;\n",
       "    }\n",
       "\n",
       "    .dataframe tbody tr th {\n",
       "        vertical-align: top;\n",
       "    }\n",
       "\n",
       "    .dataframe thead th {\n",
       "        text-align: right;\n",
       "    }\n",
       "</style>\n",
       "<table border=\"1\" class=\"dataframe\">\n",
       "  <thead>\n",
       "    <tr style=\"text-align: right;\">\n",
       "      <th></th>\n",
       "      <th>anime_id</th>\n",
       "      <th>name</th>\n",
       "      <th>genre</th>\n",
       "      <th>type</th>\n",
       "      <th>episodes</th>\n",
       "      <th>rating</th>\n",
       "      <th>members</th>\n",
       "    </tr>\n",
       "  </thead>\n",
       "  <tbody>\n",
       "    <tr>\n",
       "      <th>0</th>\n",
       "      <td>32281</td>\n",
       "      <td>Kimi no Na wa.</td>\n",
       "      <td>Drama, Romance, School, Supernatural</td>\n",
       "      <td>Movie</td>\n",
       "      <td>1</td>\n",
       "      <td>9.37</td>\n",
       "      <td>200630</td>\n",
       "    </tr>\n",
       "    <tr>\n",
       "      <th>1</th>\n",
       "      <td>5114</td>\n",
       "      <td>Fullmetal Alchemist: Brotherhood</td>\n",
       "      <td>Action, Adventure, Drama, Fantasy, Magic, Mili...</td>\n",
       "      <td>TV</td>\n",
       "      <td>64</td>\n",
       "      <td>9.26</td>\n",
       "      <td>793665</td>\n",
       "    </tr>\n",
       "    <tr>\n",
       "      <th>2</th>\n",
       "      <td>28977</td>\n",
       "      <td>Gintama°</td>\n",
       "      <td>Action, Comedy, Historical, Parody, Samurai, S...</td>\n",
       "      <td>TV</td>\n",
       "      <td>51</td>\n",
       "      <td>9.25</td>\n",
       "      <td>114262</td>\n",
       "    </tr>\n",
       "    <tr>\n",
       "      <th>3</th>\n",
       "      <td>9253</td>\n",
       "      <td>Steins;Gate</td>\n",
       "      <td>Sci-Fi, Thriller</td>\n",
       "      <td>TV</td>\n",
       "      <td>24</td>\n",
       "      <td>9.17</td>\n",
       "      <td>673572</td>\n",
       "    </tr>\n",
       "    <tr>\n",
       "      <th>4</th>\n",
       "      <td>9969</td>\n",
       "      <td>Gintama&amp;#039;</td>\n",
       "      <td>Action, Comedy, Historical, Parody, Samurai, S...</td>\n",
       "      <td>TV</td>\n",
       "      <td>51</td>\n",
       "      <td>9.16</td>\n",
       "      <td>151266</td>\n",
       "    </tr>\n",
       "  </tbody>\n",
       "</table>\n",
       "</div>"
      ],
      "text/plain": [
       "   anime_id                              name  \\\n",
       "0     32281                    Kimi no Na wa.   \n",
       "1      5114  Fullmetal Alchemist: Brotherhood   \n",
       "2     28977                          Gintama°   \n",
       "3      9253                       Steins;Gate   \n",
       "4      9969                     Gintama&#039;   \n",
       "\n",
       "                                               genre   type episodes  rating  \\\n",
       "0               Drama, Romance, School, Supernatural  Movie        1    9.37   \n",
       "1  Action, Adventure, Drama, Fantasy, Magic, Mili...     TV       64    9.26   \n",
       "2  Action, Comedy, Historical, Parody, Samurai, S...     TV       51    9.25   \n",
       "3                                   Sci-Fi, Thriller     TV       24    9.17   \n",
       "4  Action, Comedy, Historical, Parody, Samurai, S...     TV       51    9.16   \n",
       "\n",
       "   members  \n",
       "0   200630  \n",
       "1   793665  \n",
       "2   114262  \n",
       "3   673572  \n",
       "4   151266  "
      ]
     },
     "execution_count": 6,
     "metadata": {},
     "output_type": "execute_result"
    }
   ],
   "source": [
    "anime.head()"
   ]
  },
  {
   "cell_type": "markdown",
   "metadata": {
    "papermill": {
     "duration": 0.0469,
     "end_time": "2020-11-11T14:14:30.532699",
     "exception": false,
     "start_time": "2020-11-11T14:14:30.485799",
     "status": "completed"
    },
    "tags": []
   },
   "source": [
    "Modeling user rating"
   ]
  },
  {
   "cell_type": "code",
   "execution_count": 7,
   "metadata": {
    "execution": {
     "iopub.execute_input": "2020-11-11T14:14:30.636891Z",
     "iopub.status.busy": "2020-11-11T14:14:30.636046Z",
     "iopub.status.idle": "2020-11-11T14:14:30.641368Z",
     "shell.execute_reply": "2020-11-11T14:14:30.640722Z"
    },
    "papermill": {
     "duration": 0.061055,
     "end_time": "2020-11-11T14:14:30.641502",
     "exception": false,
     "start_time": "2020-11-11T14:14:30.580447",
     "status": "completed"
    },
    "tags": []
   },
   "outputs": [
    {
     "data": {
      "text/html": [
       "<div>\n",
       "<style scoped>\n",
       "    .dataframe tbody tr th:only-of-type {\n",
       "        vertical-align: middle;\n",
       "    }\n",
       "\n",
       "    .dataframe tbody tr th {\n",
       "        vertical-align: top;\n",
       "    }\n",
       "\n",
       "    .dataframe thead th {\n",
       "        text-align: right;\n",
       "    }\n",
       "</style>\n",
       "<table border=\"1\" class=\"dataframe\">\n",
       "  <thead>\n",
       "    <tr style=\"text-align: right;\">\n",
       "      <th></th>\n",
       "      <th>user_id</th>\n",
       "      <th>anime_id</th>\n",
       "      <th>rating</th>\n",
       "    </tr>\n",
       "  </thead>\n",
       "  <tbody>\n",
       "    <tr>\n",
       "      <th>0</th>\n",
       "      <td>1</td>\n",
       "      <td>20</td>\n",
       "      <td>-1</td>\n",
       "    </tr>\n",
       "    <tr>\n",
       "      <th>1</th>\n",
       "      <td>1</td>\n",
       "      <td>24</td>\n",
       "      <td>-1</td>\n",
       "    </tr>\n",
       "    <tr>\n",
       "      <th>2</th>\n",
       "      <td>1</td>\n",
       "      <td>79</td>\n",
       "      <td>-1</td>\n",
       "    </tr>\n",
       "    <tr>\n",
       "      <th>3</th>\n",
       "      <td>1</td>\n",
       "      <td>226</td>\n",
       "      <td>-1</td>\n",
       "    </tr>\n",
       "    <tr>\n",
       "      <th>4</th>\n",
       "      <td>1</td>\n",
       "      <td>241</td>\n",
       "      <td>-1</td>\n",
       "    </tr>\n",
       "  </tbody>\n",
       "</table>\n",
       "</div>"
      ],
      "text/plain": [
       "   user_id  anime_id  rating\n",
       "0        1        20      -1\n",
       "1        1        24      -1\n",
       "2        1        79      -1\n",
       "3        1       226      -1\n",
       "4        1       241      -1"
      ]
     },
     "execution_count": 7,
     "metadata": {},
     "output_type": "execute_result"
    }
   ],
   "source": [
    "rating.head()"
   ]
  },
  {
   "cell_type": "code",
   "execution_count": 8,
   "metadata": {
    "execution": {
     "iopub.execute_input": "2020-11-11T14:14:30.714951Z",
     "iopub.status.busy": "2020-11-11T14:14:30.713857Z",
     "iopub.status.idle": "2020-11-11T14:14:30.978067Z",
     "shell.execute_reply": "2020-11-11T14:14:30.977239Z"
    },
    "papermill": {
     "duration": 0.303606,
     "end_time": "2020-11-11T14:14:30.978195",
     "exception": false,
     "start_time": "2020-11-11T14:14:30.674589",
     "status": "completed"
    },
    "tags": []
   },
   "outputs": [
    {
     "data": {
      "image/png": "[encoded data removed]",
      "text/plain": [
       "<Figure size 432x288 with 1 Axes>"
      ]
     },
     "metadata": {
      "needs_background": "light"
     },
     "output_type": "display_data"
    }
   ],
   "source": [
    "cnt_pro = rating['rating'].value_counts()\n",
    "plt.figure(figsize=(6,4))\n",
    "sns.barplot(cnt_pro.index, cnt_pro.values, alpha=0.8)\n",
    "plt.ylabel('Number of rating', fontsize=12)\n",
    "plt.xlabel('rating', fontsize=12)\n",
    "plt.xticks(rotation=80)\n",
    "plt.show();"
   ]
  },
  {
   "cell_type": "markdown",
   "metadata": {
    "papermill": {
     "duration": 0.049419,
     "end_time": "2020-11-11T14:14:31.080207",
     "exception": false,
     "start_time": "2020-11-11T14:14:31.030788",
     "status": "completed"
    },
    "tags": []
   },
   "source": [
    "Here we are computing the ratings with each user_id, first group the user_id and get max and mean of ratings"
   ]
  },
  {
   "cell_type": "code",
   "execution_count": 9,
   "metadata": {
    "execution": {
     "iopub.execute_input": "2020-11-11T14:14:31.185062Z",
     "iopub.status.busy": "2020-11-11T14:14:31.184218Z",
     "iopub.status.idle": "2020-11-11T14:14:31.188881Z",
     "shell.execute_reply": "2020-11-11T14:14:31.188202Z"
    },
    "papermill": {
     "duration": 0.059019,
     "end_time": "2020-11-11T14:14:31.188991",
     "exception": false,
     "start_time": "2020-11-11T14:14:31.129972",
     "status": "completed"
    },
    "tags": []
   },
   "outputs": [],
   "source": [
    "#display(rating[[\"user_id\",\"rating\",]].groupby([\"user_id\"]).agg([\"max\",'mean']).style.background_gradient(cmap=\"copper\"))"
   ]
  },
  {
   "cell_type": "code",
   "execution_count": 10,
   "metadata": {
    "execution": {
     "iopub.execute_input": "2020-11-11T14:14:31.288834Z",
     "iopub.status.busy": "2020-11-11T14:14:31.287985Z",
     "iopub.status.idle": "2020-11-11T14:14:31.549192Z",
     "shell.execute_reply": "2020-11-11T14:14:31.548518Z"
    },
    "papermill": {
     "duration": 0.32676,
     "end_time": "2020-11-11T14:14:31.549310",
     "exception": false,
     "start_time": "2020-11-11T14:14:31.222550",
     "status": "completed"
    },
    "tags": []
   },
   "outputs": [],
   "source": [
    "Mean_rate = rating.groupby(['user_id']).mean().reset_index()\n",
    "Mean_rate['mean_rating'] = Mean_rate['rating']\n",
    "Mean_rate.drop(['anime_id','rating'],axis=1, inplace=True)\n"
   ]
  },
  {
   "cell_type": "code",
   "execution_count": 11,
   "metadata": {
    "execution": {
     "iopub.execute_input": "2020-11-11T14:14:31.626222Z",
     "iopub.status.busy": "2020-11-11T14:14:31.625332Z",
     "iopub.status.idle": "2020-11-11T14:14:31.630915Z",
     "shell.execute_reply": "2020-11-11T14:14:31.630381Z"
    },
    "papermill": {
     "duration": 0.048671,
     "end_time": "2020-11-11T14:14:31.631019",
     "exception": false,
     "start_time": "2020-11-11T14:14:31.582348",
     "status": "completed"
    },
    "tags": []
   },
   "outputs": [
    {
     "data": {
      "text/html": [
       "<div>\n",
       "<style scoped>\n",
       "    .dataframe tbody tr th:only-of-type {\n",
       "        vertical-align: middle;\n",
       "    }\n",
       "\n",
       "    .dataframe tbody tr th {\n",
       "        vertical-align: top;\n",
       "    }\n",
       "\n",
       "    .dataframe thead th {\n",
       "        text-align: right;\n",
       "    }\n",
       "</style>\n",
       "<table border=\"1\" class=\"dataframe\">\n",
       "  <thead>\n",
       "    <tr style=\"text-align: right;\">\n",
       "      <th></th>\n",
       "      <th>user_id</th>\n",
       "      <th>mean_rating</th>\n",
       "    </tr>\n",
       "  </thead>\n",
       "  <tbody>\n",
       "    <tr>\n",
       "      <th>0</th>\n",
       "      <td>1</td>\n",
       "      <td>-0.712418</td>\n",
       "    </tr>\n",
       "    <tr>\n",
       "      <th>1</th>\n",
       "      <td>2</td>\n",
       "      <td>2.666667</td>\n",
       "    </tr>\n",
       "    <tr>\n",
       "      <th>2</th>\n",
       "      <td>3</td>\n",
       "      <td>7.382979</td>\n",
       "    </tr>\n",
       "    <tr>\n",
       "      <th>3</th>\n",
       "      <td>4</td>\n",
       "      <td>-1.000000</td>\n",
       "    </tr>\n",
       "    <tr>\n",
       "      <th>4</th>\n",
       "      <td>5</td>\n",
       "      <td>4.263383</td>\n",
       "    </tr>\n",
       "  </tbody>\n",
       "</table>\n",
       "</div>"
      ],
      "text/plain": [
       "   user_id  mean_rating\n",
       "0        1    -0.712418\n",
       "1        2     2.666667\n",
       "2        3     7.382979\n",
       "3        4    -1.000000\n",
       "4        5     4.263383"
      ]
     },
     "execution_count": 11,
     "metadata": {},
     "output_type": "execute_result"
    }
   ],
   "source": [
    "Mean_rate.head()"
   ]
  },
  {
   "cell_type": "code",
   "execution_count": 12,
   "metadata": {
    "execution": {
     "iopub.execute_input": "2020-11-11T14:14:31.708378Z",
     "iopub.status.busy": "2020-11-11T14:14:31.702310Z",
     "iopub.status.idle": "2020-11-11T14:14:32.371176Z",
     "shell.execute_reply": "2020-11-11T14:14:32.370487Z"
    },
    "papermill": {
     "duration": 0.707038,
     "end_time": "2020-11-11T14:14:32.371297",
     "exception": false,
     "start_time": "2020-11-11T14:14:31.664259",
     "status": "completed"
    },
    "tags": []
   },
   "outputs": [
    {
     "data": {
      "text/html": [
       "<div>\n",
       "<style scoped>\n",
       "    .dataframe tbody tr th:only-of-type {\n",
       "        vertical-align: middle;\n",
       "    }\n",
       "\n",
       "    .dataframe tbody tr th {\n",
       "        vertical-align: top;\n",
       "    }\n",
       "\n",
       "    .dataframe thead th {\n",
       "        text-align: right;\n",
       "    }\n",
       "</style>\n",
       "<table border=\"1\" class=\"dataframe\">\n",
       "  <thead>\n",
       "    <tr style=\"text-align: right;\">\n",
       "      <th></th>\n",
       "      <th>user_id</th>\n",
       "      <th>anime_id</th>\n",
       "      <th>rating</th>\n",
       "      <th>mean_rating</th>\n",
       "    </tr>\n",
       "  </thead>\n",
       "  <tbody>\n",
       "    <tr>\n",
       "      <th>0</th>\n",
       "      <td>1</td>\n",
       "      <td>20</td>\n",
       "      <td>-1</td>\n",
       "      <td>-0.712418</td>\n",
       "    </tr>\n",
       "    <tr>\n",
       "      <th>1</th>\n",
       "      <td>1</td>\n",
       "      <td>24</td>\n",
       "      <td>-1</td>\n",
       "      <td>-0.712418</td>\n",
       "    </tr>\n",
       "    <tr>\n",
       "      <th>2</th>\n",
       "      <td>1</td>\n",
       "      <td>79</td>\n",
       "      <td>-1</td>\n",
       "      <td>-0.712418</td>\n",
       "    </tr>\n",
       "    <tr>\n",
       "      <th>3</th>\n",
       "      <td>1</td>\n",
       "      <td>226</td>\n",
       "      <td>-1</td>\n",
       "      <td>-0.712418</td>\n",
       "    </tr>\n",
       "    <tr>\n",
       "      <th>4</th>\n",
       "      <td>1</td>\n",
       "      <td>241</td>\n",
       "      <td>-1</td>\n",
       "      <td>-0.712418</td>\n",
       "    </tr>\n",
       "  </tbody>\n",
       "</table>\n",
       "</div>"
      ],
      "text/plain": [
       "   user_id  anime_id  rating  mean_rating\n",
       "0        1        20      -1    -0.712418\n",
       "1        1        24      -1    -0.712418\n",
       "2        1        79      -1    -0.712418\n",
       "3        1       226      -1    -0.712418\n",
       "4        1       241      -1    -0.712418"
      ]
     },
     "execution_count": 12,
     "metadata": {},
     "output_type": "execute_result"
    }
   ],
   "source": [
    "user = pd.merge(rating,Mean_rate,on=['user_id','user_id'])\n",
    "user.head()\n"
   ]
  },
  {
   "cell_type": "code",
   "execution_count": 13,
   "metadata": {
    "execution": {
     "iopub.execute_input": "2020-11-11T14:14:32.481385Z",
     "iopub.status.busy": "2020-11-11T14:14:32.480706Z",
     "iopub.status.idle": "2020-11-11T14:14:34.444155Z",
     "shell.execute_reply": "2020-11-11T14:14:34.443637Z"
    },
    "papermill": {
     "duration": 2.021894,
     "end_time": "2020-11-11T14:14:34.444280",
     "exception": false,
     "start_time": "2020-11-11T14:14:32.422386",
     "status": "completed"
    },
    "tags": []
   },
   "outputs": [
    {
     "data": {
      "text/html": [
       "<div>\n",
       "<style scoped>\n",
       "    .dataframe tbody tr th:only-of-type {\n",
       "        vertical-align: middle;\n",
       "    }\n",
       "\n",
       "    .dataframe tbody tr th {\n",
       "        vertical-align: top;\n",
       "    }\n",
       "\n",
       "    .dataframe thead th {\n",
       "        text-align: right;\n",
       "    }\n",
       "</style>\n",
       "<table border=\"1\" class=\"dataframe\">\n",
       "  <thead>\n",
       "    <tr style=\"text-align: right;\">\n",
       "      <th></th>\n",
       "      <th>user_id</th>\n",
       "      <th>anime_id</th>\n",
       "      <th>rating</th>\n",
       "      <th>mean_rating</th>\n",
       "    </tr>\n",
       "  </thead>\n",
       "  <tbody>\n",
       "    <tr>\n",
       "      <th>47</th>\n",
       "      <td>1</td>\n",
       "      <td>8074</td>\n",
       "      <td>10</td>\n",
       "      <td>-0.712418</td>\n",
       "    </tr>\n",
       "    <tr>\n",
       "      <th>81</th>\n",
       "      <td>1</td>\n",
       "      <td>11617</td>\n",
       "      <td>10</td>\n",
       "      <td>-0.712418</td>\n",
       "    </tr>\n",
       "    <tr>\n",
       "      <th>83</th>\n",
       "      <td>1</td>\n",
       "      <td>11757</td>\n",
       "      <td>10</td>\n",
       "      <td>-0.712418</td>\n",
       "    </tr>\n",
       "    <tr>\n",
       "      <th>101</th>\n",
       "      <td>1</td>\n",
       "      <td>15451</td>\n",
       "      <td>10</td>\n",
       "      <td>-0.712418</td>\n",
       "    </tr>\n",
       "    <tr>\n",
       "      <th>153</th>\n",
       "      <td>2</td>\n",
       "      <td>11771</td>\n",
       "      <td>10</td>\n",
       "      <td>2.666667</td>\n",
       "    </tr>\n",
       "    <tr>\n",
       "      <th>...</th>\n",
       "      <td>...</td>\n",
       "      <td>...</td>\n",
       "      <td>...</td>\n",
       "      <td>...</td>\n",
       "    </tr>\n",
       "    <tr>\n",
       "      <th>7813730</th>\n",
       "      <td>73515</td>\n",
       "      <td>13659</td>\n",
       "      <td>8</td>\n",
       "      <td>7.719388</td>\n",
       "    </tr>\n",
       "    <tr>\n",
       "      <th>7813733</th>\n",
       "      <td>73515</td>\n",
       "      <td>17187</td>\n",
       "      <td>9</td>\n",
       "      <td>7.719388</td>\n",
       "    </tr>\n",
       "    <tr>\n",
       "      <th>7813734</th>\n",
       "      <td>73515</td>\n",
       "      <td>22145</td>\n",
       "      <td>10</td>\n",
       "      <td>7.719388</td>\n",
       "    </tr>\n",
       "    <tr>\n",
       "      <th>7813735</th>\n",
       "      <td>73516</td>\n",
       "      <td>790</td>\n",
       "      <td>9</td>\n",
       "      <td>9.000000</td>\n",
       "    </tr>\n",
       "    <tr>\n",
       "      <th>7813736</th>\n",
       "      <td>73516</td>\n",
       "      <td>8074</td>\n",
       "      <td>9</td>\n",
       "      <td>9.000000</td>\n",
       "    </tr>\n",
       "  </tbody>\n",
       "</table>\n",
       "<p>4262566 rows × 4 columns</p>\n",
       "</div>"
      ],
      "text/plain": [
       "         user_id  anime_id  rating  mean_rating\n",
       "47             1      8074      10    -0.712418\n",
       "81             1     11617      10    -0.712418\n",
       "83             1     11757      10    -0.712418\n",
       "101            1     15451      10    -0.712418\n",
       "153            2     11771      10     2.666667\n",
       "...          ...       ...     ...          ...\n",
       "7813730    73515     13659       8     7.719388\n",
       "7813733    73515     17187       9     7.719388\n",
       "7813734    73515     22145      10     7.719388\n",
       "7813735    73516       790       9     9.000000\n",
       "7813736    73516      8074       9     9.000000\n",
       "\n",
       "[4262566 rows x 4 columns]"
      ]
     },
     "execution_count": 13,
     "metadata": {},
     "output_type": "execute_result"
    }
   ],
   "source": [
    "user = user.drop(user[user.rating < user.mean_rating].index)\n",
    "user"
   ]
  },
  {
   "cell_type": "code",
   "execution_count": 14,
   "metadata": {
    "execution": {
     "iopub.execute_input": "2020-11-11T14:14:34.521619Z",
     "iopub.status.busy": "2020-11-11T14:14:34.520720Z",
     "iopub.status.idle": "2020-11-11T14:14:34.533388Z",
     "shell.execute_reply": "2020-11-11T14:14:34.532776Z"
    },
    "papermill": {
     "duration": 0.053735,
     "end_time": "2020-11-11T14:14:34.533519",
     "exception": false,
     "start_time": "2020-11-11T14:14:34.479784",
     "status": "completed"
    },
    "tags": []
   },
   "outputs": [
    {
     "data": {
      "text/html": [
       "<div>\n",
       "<style scoped>\n",
       "    .dataframe tbody tr th:only-of-type {\n",
       "        vertical-align: middle;\n",
       "    }\n",
       "\n",
       "    .dataframe tbody tr th {\n",
       "        vertical-align: top;\n",
       "    }\n",
       "\n",
       "    .dataframe thead th {\n",
       "        text-align: right;\n",
       "    }\n",
       "</style>\n",
       "<table border=\"1\" class=\"dataframe\">\n",
       "  <thead>\n",
       "    <tr style=\"text-align: right;\">\n",
       "      <th></th>\n",
       "      <th>user_id</th>\n",
       "      <th>anime_id</th>\n",
       "      <th>rating</th>\n",
       "      <th>mean_rating</th>\n",
       "    </tr>\n",
       "  </thead>\n",
       "  <tbody>\n",
       "    <tr>\n",
       "      <th>153</th>\n",
       "      <td>2</td>\n",
       "      <td>11771</td>\n",
       "      <td>10</td>\n",
       "      <td>2.666667</td>\n",
       "    </tr>\n",
       "  </tbody>\n",
       "</table>\n",
       "</div>"
      ],
      "text/plain": [
       "     user_id  anime_id  rating  mean_rating\n",
       "153        2     11771      10     2.666667"
      ]
     },
     "execution_count": 14,
     "metadata": {},
     "output_type": "execute_result"
    }
   ],
   "source": [
    "user[user['user_id']==2].head(10)\n"
   ]
  },
  {
   "cell_type": "code",
   "execution_count": 15,
   "metadata": {
    "execution": {
     "iopub.execute_input": "2020-11-11T14:14:34.610986Z",
     "iopub.status.busy": "2020-11-11T14:14:34.610328Z",
     "iopub.status.idle": "2020-11-11T14:14:34.628952Z",
     "shell.execute_reply": "2020-11-11T14:14:34.627902Z"
    },
    "papermill": {
     "duration": 0.059929,
     "end_time": "2020-11-11T14:14:34.629147",
     "exception": false,
     "start_time": "2020-11-11T14:14:34.569218",
     "status": "completed"
    },
    "tags": []
   },
   "outputs": [
    {
     "data": {
      "text/html": [
       "<div>\n",
       "<style scoped>\n",
       "    .dataframe tbody tr th:only-of-type {\n",
       "        vertical-align: middle;\n",
       "    }\n",
       "\n",
       "    .dataframe tbody tr th {\n",
       "        vertical-align: top;\n",
       "    }\n",
       "\n",
       "    .dataframe thead th {\n",
       "        text-align: right;\n",
       "    }\n",
       "</style>\n",
       "<table border=\"1\" class=\"dataframe\">\n",
       "  <thead>\n",
       "    <tr style=\"text-align: right;\">\n",
       "      <th></th>\n",
       "      <th>user_id</th>\n",
       "      <th>anime_id</th>\n",
       "      <th>rating</th>\n",
       "      <th>mean_rating</th>\n",
       "    </tr>\n",
       "  </thead>\n",
       "  <tbody>\n",
       "    <tr>\n",
       "      <th>47</th>\n",
       "      <td>1</td>\n",
       "      <td>8074</td>\n",
       "      <td>10</td>\n",
       "      <td>-0.712418</td>\n",
       "    </tr>\n",
       "    <tr>\n",
       "      <th>81</th>\n",
       "      <td>1</td>\n",
       "      <td>11617</td>\n",
       "      <td>10</td>\n",
       "      <td>-0.712418</td>\n",
       "    </tr>\n",
       "    <tr>\n",
       "      <th>83</th>\n",
       "      <td>1</td>\n",
       "      <td>11757</td>\n",
       "      <td>10</td>\n",
       "      <td>-0.712418</td>\n",
       "    </tr>\n",
       "    <tr>\n",
       "      <th>101</th>\n",
       "      <td>1</td>\n",
       "      <td>15451</td>\n",
       "      <td>10</td>\n",
       "      <td>-0.712418</td>\n",
       "    </tr>\n",
       "  </tbody>\n",
       "</table>\n",
       "</div>"
      ],
      "text/plain": [
       "     user_id  anime_id  rating  mean_rating\n",
       "47         1      8074      10    -0.712418\n",
       "81         1     11617      10    -0.712418\n",
       "83         1     11757      10    -0.712418\n",
       "101        1     15451      10    -0.712418"
      ]
     },
     "execution_count": 15,
     "metadata": {},
     "output_type": "execute_result"
    }
   ],
   "source": [
    "user[user['user_id']==1].head(10)"
   ]
  },
  {
   "cell_type": "markdown",
   "metadata": {
    "papermill": {
     "duration": 0.035247,
     "end_time": "2020-11-11T14:14:34.701534",
     "exception": false,
     "start_time": "2020-11-11T14:14:34.666287",
     "status": "completed"
    },
    "tags": []
   },
   "source": [
    "# # Merge Dataset"
   ]
  },
  {
   "cell_type": "markdown",
   "metadata": {
    "papermill": {
     "duration": 0.035007,
     "end_time": "2020-11-11T14:14:34.771865",
     "exception": false,
     "start_time": "2020-11-11T14:14:34.736858",
     "status": "completed"
    },
    "tags": []
   },
   "source": [
    "Because Hierarchical clustering has High space and time complexity. Hence this clustering algorithm cannot be used when we have huge data. So we reduce the data, this work we only use 10000 data"
   ]
  },
  {
   "cell_type": "code",
   "execution_count": 16,
   "metadata": {
    "execution": {
     "iopub.execute_input": "2020-11-11T14:14:34.853495Z",
     "iopub.status.busy": "2020-11-11T14:14:34.852537Z",
     "iopub.status.idle": "2020-11-11T14:14:36.086007Z",
     "shell.execute_reply": "2020-11-11T14:14:36.085317Z"
    },
    "papermill": {
     "duration": 1.27655,
     "end_time": "2020-11-11T14:14:36.086122",
     "exception": false,
     "start_time": "2020-11-11T14:14:34.809572",
     "status": "completed"
    },
    "tags": []
   },
   "outputs": [
    {
     "data": {
      "text/html": [
       "<div>\n",
       "<style scoped>\n",
       "    .dataframe tbody tr th:only-of-type {\n",
       "        vertical-align: middle;\n",
       "    }\n",
       "\n",
       "    .dataframe tbody tr th {\n",
       "        vertical-align: top;\n",
       "    }\n",
       "\n",
       "    .dataframe thead th {\n",
       "        text-align: right;\n",
       "    }\n",
       "</style>\n",
       "<table border=\"1\" class=\"dataframe\">\n",
       "  <thead>\n",
       "    <tr style=\"text-align: right;\">\n",
       "      <th></th>\n",
       "      <th>anime_id</th>\n",
       "      <th>name</th>\n",
       "      <th>genre</th>\n",
       "      <th>type</th>\n",
       "      <th>episodes</th>\n",
       "      <th>rating_x</th>\n",
       "      <th>members</th>\n",
       "      <th>user_id</th>\n",
       "      <th>rating_y</th>\n",
       "      <th>mean_rating</th>\n",
       "    </tr>\n",
       "  </thead>\n",
       "  <tbody>\n",
       "    <tr>\n",
       "      <th>0</th>\n",
       "      <td>32281</td>\n",
       "      <td>Kimi no Na wa.</td>\n",
       "      <td>Drama, Romance, School, Supernatural</td>\n",
       "      <td>Movie</td>\n",
       "      <td>1</td>\n",
       "      <td>9.37</td>\n",
       "      <td>200630</td>\n",
       "      <td>152</td>\n",
       "      <td>10</td>\n",
       "      <td>7.699301</td>\n",
       "    </tr>\n",
       "    <tr>\n",
       "      <th>1</th>\n",
       "      <td>32281</td>\n",
       "      <td>Kimi no Na wa.</td>\n",
       "      <td>Drama, Romance, School, Supernatural</td>\n",
       "      <td>Movie</td>\n",
       "      <td>1</td>\n",
       "      <td>9.37</td>\n",
       "      <td>200630</td>\n",
       "      <td>244</td>\n",
       "      <td>10</td>\n",
       "      <td>8.729242</td>\n",
       "    </tr>\n",
       "    <tr>\n",
       "      <th>2</th>\n",
       "      <td>32281</td>\n",
       "      <td>Kimi no Na wa.</td>\n",
       "      <td>Drama, Romance, School, Supernatural</td>\n",
       "      <td>Movie</td>\n",
       "      <td>1</td>\n",
       "      <td>9.37</td>\n",
       "      <td>200630</td>\n",
       "      <td>271</td>\n",
       "      <td>10</td>\n",
       "      <td>7.372287</td>\n",
       "    </tr>\n",
       "    <tr>\n",
       "      <th>3</th>\n",
       "      <td>32281</td>\n",
       "      <td>Kimi no Na wa.</td>\n",
       "      <td>Drama, Romance, School, Supernatural</td>\n",
       "      <td>Movie</td>\n",
       "      <td>1</td>\n",
       "      <td>9.37</td>\n",
       "      <td>200630</td>\n",
       "      <td>322</td>\n",
       "      <td>10</td>\n",
       "      <td>8.356322</td>\n",
       "    </tr>\n",
       "    <tr>\n",
       "      <th>4</th>\n",
       "      <td>32281</td>\n",
       "      <td>Kimi no Na wa.</td>\n",
       "      <td>Drama, Romance, School, Supernatural</td>\n",
       "      <td>Movie</td>\n",
       "      <td>1</td>\n",
       "      <td>9.37</td>\n",
       "      <td>200630</td>\n",
       "      <td>398</td>\n",
       "      <td>10</td>\n",
       "      <td>-0.832298</td>\n",
       "    </tr>\n",
       "    <tr>\n",
       "      <th>5</th>\n",
       "      <td>32281</td>\n",
       "      <td>Kimi no Na wa.</td>\n",
       "      <td>Drama, Romance, School, Supernatural</td>\n",
       "      <td>Movie</td>\n",
       "      <td>1</td>\n",
       "      <td>9.37</td>\n",
       "      <td>200630</td>\n",
       "      <td>462</td>\n",
       "      <td>8</td>\n",
       "      <td>7.374593</td>\n",
       "    </tr>\n",
       "    <tr>\n",
       "      <th>6</th>\n",
       "      <td>32281</td>\n",
       "      <td>Kimi no Na wa.</td>\n",
       "      <td>Drama, Romance, School, Supernatural</td>\n",
       "      <td>Movie</td>\n",
       "      <td>1</td>\n",
       "      <td>9.37</td>\n",
       "      <td>200630</td>\n",
       "      <td>490</td>\n",
       "      <td>10</td>\n",
       "      <td>8.062500</td>\n",
       "    </tr>\n",
       "    <tr>\n",
       "      <th>7</th>\n",
       "      <td>32281</td>\n",
       "      <td>Kimi no Na wa.</td>\n",
       "      <td>Drama, Romance, School, Supernatural</td>\n",
       "      <td>Movie</td>\n",
       "      <td>1</td>\n",
       "      <td>9.37</td>\n",
       "      <td>200630</td>\n",
       "      <td>548</td>\n",
       "      <td>10</td>\n",
       "      <td>8.112360</td>\n",
       "    </tr>\n",
       "    <tr>\n",
       "      <th>8</th>\n",
       "      <td>32281</td>\n",
       "      <td>Kimi no Na wa.</td>\n",
       "      <td>Drama, Romance, School, Supernatural</td>\n",
       "      <td>Movie</td>\n",
       "      <td>1</td>\n",
       "      <td>9.37</td>\n",
       "      <td>200630</td>\n",
       "      <td>570</td>\n",
       "      <td>10</td>\n",
       "      <td>8.388889</td>\n",
       "    </tr>\n",
       "    <tr>\n",
       "      <th>9</th>\n",
       "      <td>32281</td>\n",
       "      <td>Kimi no Na wa.</td>\n",
       "      <td>Drama, Romance, School, Supernatural</td>\n",
       "      <td>Movie</td>\n",
       "      <td>1</td>\n",
       "      <td>9.37</td>\n",
       "      <td>200630</td>\n",
       "      <td>598</td>\n",
       "      <td>10</td>\n",
       "      <td>8.680328</td>\n",
       "    </tr>\n",
       "  </tbody>\n",
       "</table>\n",
       "</div>"
      ],
      "text/plain": [
       "   anime_id            name                                 genre   type  \\\n",
       "0     32281  Kimi no Na wa.  Drama, Romance, School, Supernatural  Movie   \n",
       "1     32281  Kimi no Na wa.  Drama, Romance, School, Supernatural  Movie   \n",
       "2     32281  Kimi no Na wa.  Drama, Romance, School, Supernatural  Movie   \n",
       "3     32281  Kimi no Na wa.  Drama, Romance, School, Supernatural  Movie   \n",
       "4     32281  Kimi no Na wa.  Drama, Romance, School, Supernatural  Movie   \n",
       "5     32281  Kimi no Na wa.  Drama, Romance, School, Supernatural  Movie   \n",
       "6     32281  Kimi no Na wa.  Drama, Romance, School, Supernatural  Movie   \n",
       "7     32281  Kimi no Na wa.  Drama, Romance, School, Supernatural  Movie   \n",
       "8     32281  Kimi no Na wa.  Drama, Romance, School, Supernatural  Movie   \n",
       "9     32281  Kimi no Na wa.  Drama, Romance, School, Supernatural  Movie   \n",
       "\n",
       "  episodes  rating_x  members  user_id  rating_y  mean_rating  \n",
       "0        1      9.37   200630      152        10     7.699301  \n",
       "1        1      9.37   200630      244        10     8.729242  \n",
       "2        1      9.37   200630      271        10     7.372287  \n",
       "3        1      9.37   200630      322        10     8.356322  \n",
       "4        1      9.37   200630      398        10    -0.832298  \n",
       "5        1      9.37   200630      462         8     7.374593  \n",
       "6        1      9.37   200630      490        10     8.062500  \n",
       "7        1      9.37   200630      548        10     8.112360  \n",
       "8        1      9.37   200630      570        10     8.388889  \n",
       "9        1      9.37   200630      598        10     8.680328  "
      ]
     },
     "execution_count": 16,
     "metadata": {},
     "output_type": "execute_result"
    }
   ],
   "source": [
    "Data = pd.merge(anime,user,on=['anime_id','anime_id'])\n",
    "Data= Data[Data.user_id <= 10000]\n",
    "Data.head(10)"
   ]
  },
  {
   "cell_type": "code",
   "execution_count": 17,
   "metadata": {
    "execution": {
     "iopub.execute_input": "2020-11-11T14:14:36.170243Z",
     "iopub.status.busy": "2020-11-11T14:14:36.169611Z",
     "iopub.status.idle": "2020-11-11T14:14:36.465184Z",
     "shell.execute_reply": "2020-11-11T14:14:36.464446Z"
    },
    "papermill": {
     "duration": 0.340107,
     "end_time": "2020-11-11T14:14:36.465295",
     "exception": false,
     "start_time": "2020-11-11T14:14:36.125188",
     "status": "completed"
    },
    "tags": []
   },
   "outputs": [
    {
     "name": "stdout",
     "output_type": "stream",
     "text": [
      "<class 'pandas.core.frame.DataFrame'>\n",
      "Int64Index: 570939 entries, 0 to 4262455\n",
      "Data columns (total 10 columns):\n",
      " #   Column       Non-Null Count   Dtype  \n",
      "---  ------       --------------   -----  \n",
      " 0   anime_id     570939 non-null  int64  \n",
      " 1   name         570939 non-null  object \n",
      " 2   genre        570937 non-null  object \n",
      " 3   type         570939 non-null  object \n",
      " 4   episodes     570939 non-null  object \n",
      " 5   rating_x     570939 non-null  float64\n",
      " 6   members      570939 non-null  int64  \n",
      " 7   user_id      570939 non-null  int64  \n",
      " 8   rating_y     570939 non-null  int64  \n",
      " 9   mean_rating  570939 non-null  float64\n",
      "dtypes: float64(2), int64(4), object(4)\n",
      "memory usage: 47.9+ MB\n"
     ]
    }
   ],
   "source": [
    "Data.info()"
   ]
  },
  {
   "cell_type": "code",
   "execution_count": 18,
   "metadata": {
    "execution": {
     "iopub.execute_input": "2020-11-11T14:14:36.549842Z",
     "iopub.status.busy": "2020-11-11T14:14:36.549041Z",
     "iopub.status.idle": "2020-11-11T14:14:36.559627Z",
     "shell.execute_reply": "2020-11-11T14:14:36.558815Z"
    },
    "papermill": {
     "duration": 0.054507,
     "end_time": "2020-11-11T14:14:36.559738",
     "exception": false,
     "start_time": "2020-11-11T14:14:36.505231",
     "status": "completed"
    },
    "tags": []
   },
   "outputs": [
    {
     "data": {
      "text/plain": [
       "7040"
      ]
     },
     "execution_count": 18,
     "metadata": {},
     "output_type": "execute_result"
    }
   ],
   "source": [
    "len(Data['anime_id'].unique())\n"
   ]
  },
  {
   "cell_type": "code",
   "execution_count": 19,
   "metadata": {
    "execution": {
     "iopub.execute_input": "2020-11-11T14:14:36.645051Z",
     "iopub.status.busy": "2020-11-11T14:14:36.644150Z",
     "iopub.status.idle": "2020-11-11T14:14:36.652496Z",
     "shell.execute_reply": "2020-11-11T14:14:36.651837Z"
    },
    "papermill": {
     "duration": 0.053122,
     "end_time": "2020-11-11T14:14:36.652599",
     "exception": false,
     "start_time": "2020-11-11T14:14:36.599477",
     "status": "completed"
    },
    "tags": []
   },
   "outputs": [
    {
     "data": {
      "text/plain": [
       "10000"
      ]
     },
     "execution_count": 19,
     "metadata": {},
     "output_type": "execute_result"
    }
   ],
   "source": [
    "len(Data['user_id'].unique())\n"
   ]
  },
  {
   "cell_type": "markdown",
   "metadata": {
    "papermill": {
     "duration": 0.03989,
     "end_time": "2020-11-11T14:14:36.733058",
     "exception": false,
     "start_time": "2020-11-11T14:14:36.693168",
     "status": "completed"
    },
    "tags": []
   },
   "source": [
    "Show detail of anime which each user like\n"
   ]
  },
  {
   "cell_type": "code",
   "execution_count": 20,
   "metadata": {
    "execution": {
     "iopub.execute_input": "2020-11-11T14:14:36.820155Z",
     "iopub.status.busy": "2020-11-11T14:14:36.819317Z",
     "iopub.status.idle": "2020-11-11T14:14:47.930942Z",
     "shell.execute_reply": "2020-11-11T14:14:47.931487Z"
    },
    "papermill": {
     "duration": 11.158204,
     "end_time": "2020-11-11T14:14:47.931646",
     "exception": false,
     "start_time": "2020-11-11T14:14:36.773442",
     "status": "completed"
    },
    "tags": []
   },
   "outputs": [
    {
     "data": {
      "text/html": [
       "<div>\n",
       "<style scoped>\n",
       "    .dataframe tbody tr th:only-of-type {\n",
       "        vertical-align: middle;\n",
       "    }\n",
       "\n",
       "    .dataframe tbody tr th {\n",
       "        vertical-align: top;\n",
       "    }\n",
       "\n",
       "    .dataframe thead th {\n",
       "        text-align: right;\n",
       "    }\n",
       "</style>\n",
       "<table border=\"1\" class=\"dataframe\">\n",
       "  <thead>\n",
       "    <tr style=\"text-align: right;\">\n",
       "      <th>name</th>\n",
       "      <th>&amp;quot;Bungaku Shoujo&amp;quot; Kyou no Oyatsu: Hatsukoi</th>\n",
       "      <th>&amp;quot;Bungaku Shoujo&amp;quot; Memoire</th>\n",
       "      <th>&amp;quot;Bungaku Shoujo&amp;quot; Movie</th>\n",
       "      <th>.hack//G.U. Returner</th>\n",
       "      <th>.hack//G.U. Trilogy</th>\n",
       "      <th>.hack//G.U. Trilogy: Parody Mode</th>\n",
       "      <th>.hack//Gift</th>\n",
       "      <th>.hack//Intermezzo</th>\n",
       "      <th>.hack//Liminality</th>\n",
       "      <th>.hack//Quantum</th>\n",
       "      <th>...</th>\n",
       "      <th>gdgd Fairies 2</th>\n",
       "      <th>gdgd Fairies Movie: tte Iu Eiga wa Dou kana...?</th>\n",
       "      <th>iDOLM@STER Xenoglossia</th>\n",
       "      <th>iDOLM@STER Xenoglossia Specials</th>\n",
       "      <th>s.CRY.ed</th>\n",
       "      <th>xxxHOLiC</th>\n",
       "      <th>xxxHOLiC Kei</th>\n",
       "      <th>xxxHOLiC Movie: Manatsu no Yoru no Yume</th>\n",
       "      <th>xxxHOLiC Rou</th>\n",
       "      <th>xxxHOLiC Shunmuki</th>\n",
       "    </tr>\n",
       "    <tr>\n",
       "      <th>user_id</th>\n",
       "      <th></th>\n",
       "      <th></th>\n",
       "      <th></th>\n",
       "      <th></th>\n",
       "      <th></th>\n",
       "      <th></th>\n",
       "      <th></th>\n",
       "      <th></th>\n",
       "      <th></th>\n",
       "      <th></th>\n",
       "      <th></th>\n",
       "      <th></th>\n",
       "      <th></th>\n",
       "      <th></th>\n",
       "      <th></th>\n",
       "      <th></th>\n",
       "      <th></th>\n",
       "      <th></th>\n",
       "      <th></th>\n",
       "      <th></th>\n",
       "      <th></th>\n",
       "    </tr>\n",
       "  </thead>\n",
       "  <tbody>\n",
       "    <tr>\n",
       "      <th>1</th>\n",
       "      <td>0</td>\n",
       "      <td>0</td>\n",
       "      <td>0</td>\n",
       "      <td>0</td>\n",
       "      <td>0</td>\n",
       "      <td>0</td>\n",
       "      <td>0</td>\n",
       "      <td>0</td>\n",
       "      <td>0</td>\n",
       "      <td>0</td>\n",
       "      <td>...</td>\n",
       "      <td>0</td>\n",
       "      <td>0</td>\n",
       "      <td>0</td>\n",
       "      <td>0</td>\n",
       "      <td>0</td>\n",
       "      <td>0</td>\n",
       "      <td>0</td>\n",
       "      <td>0</td>\n",
       "      <td>0</td>\n",
       "      <td>0</td>\n",
       "    </tr>\n",
       "    <tr>\n",
       "      <th>2</th>\n",
       "      <td>0</td>\n",
       "      <td>0</td>\n",
       "      <td>0</td>\n",
       "      <td>0</td>\n",
       "      <td>0</td>\n",
       "      <td>0</td>\n",
       "      <td>0</td>\n",
       "      <td>0</td>\n",
       "      <td>0</td>\n",
       "      <td>0</td>\n",
       "      <td>...</td>\n",
       "      <td>0</td>\n",
       "      <td>0</td>\n",
       "      <td>0</td>\n",
       "      <td>0</td>\n",
       "      <td>0</td>\n",
       "      <td>0</td>\n",
       "      <td>0</td>\n",
       "      <td>0</td>\n",
       "      <td>0</td>\n",
       "      <td>0</td>\n",
       "    </tr>\n",
       "    <tr>\n",
       "      <th>3</th>\n",
       "      <td>0</td>\n",
       "      <td>0</td>\n",
       "      <td>0</td>\n",
       "      <td>0</td>\n",
       "      <td>0</td>\n",
       "      <td>0</td>\n",
       "      <td>0</td>\n",
       "      <td>0</td>\n",
       "      <td>0</td>\n",
       "      <td>0</td>\n",
       "      <td>...</td>\n",
       "      <td>0</td>\n",
       "      <td>0</td>\n",
       "      <td>0</td>\n",
       "      <td>0</td>\n",
       "      <td>0</td>\n",
       "      <td>0</td>\n",
       "      <td>0</td>\n",
       "      <td>0</td>\n",
       "      <td>0</td>\n",
       "      <td>0</td>\n",
       "    </tr>\n",
       "    <tr>\n",
       "      <th>4</th>\n",
       "      <td>0</td>\n",
       "      <td>0</td>\n",
       "      <td>0</td>\n",
       "      <td>0</td>\n",
       "      <td>0</td>\n",
       "      <td>0</td>\n",
       "      <td>0</td>\n",
       "      <td>0</td>\n",
       "      <td>0</td>\n",
       "      <td>0</td>\n",
       "      <td>...</td>\n",
       "      <td>0</td>\n",
       "      <td>0</td>\n",
       "      <td>0</td>\n",
       "      <td>0</td>\n",
       "      <td>0</td>\n",
       "      <td>0</td>\n",
       "      <td>0</td>\n",
       "      <td>0</td>\n",
       "      <td>0</td>\n",
       "      <td>0</td>\n",
       "    </tr>\n",
       "    <tr>\n",
       "      <th>5</th>\n",
       "      <td>0</td>\n",
       "      <td>0</td>\n",
       "      <td>0</td>\n",
       "      <td>0</td>\n",
       "      <td>0</td>\n",
       "      <td>0</td>\n",
       "      <td>0</td>\n",
       "      <td>0</td>\n",
       "      <td>0</td>\n",
       "      <td>0</td>\n",
       "      <td>...</td>\n",
       "      <td>0</td>\n",
       "      <td>0</td>\n",
       "      <td>0</td>\n",
       "      <td>0</td>\n",
       "      <td>0</td>\n",
       "      <td>0</td>\n",
       "      <td>0</td>\n",
       "      <td>0</td>\n",
       "      <td>0</td>\n",
       "      <td>0</td>\n",
       "    </tr>\n",
       "    <tr>\n",
       "      <th>6</th>\n",
       "      <td>0</td>\n",
       "      <td>0</td>\n",
       "      <td>0</td>\n",
       "      <td>0</td>\n",
       "      <td>0</td>\n",
       "      <td>0</td>\n",
       "      <td>0</td>\n",
       "      <td>0</td>\n",
       "      <td>0</td>\n",
       "      <td>0</td>\n",
       "      <td>...</td>\n",
       "      <td>0</td>\n",
       "      <td>0</td>\n",
       "      <td>0</td>\n",
       "      <td>0</td>\n",
       "      <td>0</td>\n",
       "      <td>0</td>\n",
       "      <td>0</td>\n",
       "      <td>0</td>\n",
       "      <td>0</td>\n",
       "      <td>0</td>\n",
       "    </tr>\n",
       "    <tr>\n",
       "      <th>7</th>\n",
       "      <td>0</td>\n",
       "      <td>0</td>\n",
       "      <td>0</td>\n",
       "      <td>0</td>\n",
       "      <td>0</td>\n",
       "      <td>0</td>\n",
       "      <td>0</td>\n",
       "      <td>0</td>\n",
       "      <td>0</td>\n",
       "      <td>0</td>\n",
       "      <td>...</td>\n",
       "      <td>0</td>\n",
       "      <td>0</td>\n",
       "      <td>0</td>\n",
       "      <td>0</td>\n",
       "      <td>0</td>\n",
       "      <td>0</td>\n",
       "      <td>0</td>\n",
       "      <td>0</td>\n",
       "      <td>0</td>\n",
       "      <td>0</td>\n",
       "    </tr>\n",
       "    <tr>\n",
       "      <th>8</th>\n",
       "      <td>0</td>\n",
       "      <td>0</td>\n",
       "      <td>0</td>\n",
       "      <td>0</td>\n",
       "      <td>0</td>\n",
       "      <td>0</td>\n",
       "      <td>0</td>\n",
       "      <td>0</td>\n",
       "      <td>0</td>\n",
       "      <td>0</td>\n",
       "      <td>...</td>\n",
       "      <td>0</td>\n",
       "      <td>0</td>\n",
       "      <td>0</td>\n",
       "      <td>0</td>\n",
       "      <td>0</td>\n",
       "      <td>0</td>\n",
       "      <td>0</td>\n",
       "      <td>0</td>\n",
       "      <td>0</td>\n",
       "      <td>0</td>\n",
       "    </tr>\n",
       "    <tr>\n",
       "      <th>9</th>\n",
       "      <td>0</td>\n",
       "      <td>0</td>\n",
       "      <td>0</td>\n",
       "      <td>0</td>\n",
       "      <td>0</td>\n",
       "      <td>0</td>\n",
       "      <td>0</td>\n",
       "      <td>0</td>\n",
       "      <td>0</td>\n",
       "      <td>0</td>\n",
       "      <td>...</td>\n",
       "      <td>0</td>\n",
       "      <td>0</td>\n",
       "      <td>0</td>\n",
       "      <td>0</td>\n",
       "      <td>0</td>\n",
       "      <td>0</td>\n",
       "      <td>0</td>\n",
       "      <td>0</td>\n",
       "      <td>0</td>\n",
       "      <td>0</td>\n",
       "    </tr>\n",
       "    <tr>\n",
       "      <th>10</th>\n",
       "      <td>0</td>\n",
       "      <td>0</td>\n",
       "      <td>0</td>\n",
       "      <td>0</td>\n",
       "      <td>0</td>\n",
       "      <td>0</td>\n",
       "      <td>0</td>\n",
       "      <td>0</td>\n",
       "      <td>0</td>\n",
       "      <td>0</td>\n",
       "      <td>...</td>\n",
       "      <td>0</td>\n",
       "      <td>0</td>\n",
       "      <td>0</td>\n",
       "      <td>0</td>\n",
       "      <td>0</td>\n",
       "      <td>0</td>\n",
       "      <td>0</td>\n",
       "      <td>0</td>\n",
       "      <td>0</td>\n",
       "      <td>0</td>\n",
       "    </tr>\n",
       "  </tbody>\n",
       "</table>\n",
       "<p>10 rows × 7040 columns</p>\n",
       "</div>"
      ],
      "text/plain": [
       "name     &quot;Bungaku Shoujo&quot; Kyou no Oyatsu: Hatsukoi  \\\n",
       "user_id                                                        \n",
       "1                                                        0     \n",
       "2                                                        0     \n",
       "3                                                        0     \n",
       "4                                                        0     \n",
       "5                                                        0     \n",
       "6                                                        0     \n",
       "7                                                        0     \n",
       "8                                                        0     \n",
       "9                                                        0     \n",
       "10                                                       0     \n",
       "\n",
       "name     &quot;Bungaku Shoujo&quot; Memoire  &quot;Bungaku Shoujo&quot; Movie  \\\n",
       "user_id                                                                         \n",
       "1                                         0                                 0   \n",
       "2                                         0                                 0   \n",
       "3                                         0                                 0   \n",
       "4                                         0                                 0   \n",
       "5                                         0                                 0   \n",
       "6                                         0                                 0   \n",
       "7                                         0                                 0   \n",
       "8                                         0                                 0   \n",
       "9                                         0                                 0   \n",
       "10                                        0                                 0   \n",
       "\n",
       "name     .hack//G.U. Returner  .hack//G.U. Trilogy  \\\n",
       "user_id                                              \n",
       "1                           0                    0   \n",
       "2                           0                    0   \n",
       "3                           0                    0   \n",
       "4                           0                    0   \n",
       "5                           0                    0   \n",
       "6                           0                    0   \n",
       "7                           0                    0   \n",
       "8                           0                    0   \n",
       "9                           0                    0   \n",
       "10                          0                    0   \n",
       "\n",
       "name     .hack//G.U. Trilogy: Parody Mode  .hack//Gift  .hack//Intermezzo  \\\n",
       "user_id                                                                     \n",
       "1                                       0            0                  0   \n",
       "2                                       0            0                  0   \n",
       "3                                       0            0                  0   \n",
       "4                                       0            0                  0   \n",
       "5                                       0            0                  0   \n",
       "6                                       0            0                  0   \n",
       "7                                       0            0                  0   \n",
       "8                                       0            0                  0   \n",
       "9                                       0            0                  0   \n",
       "10                                      0            0                  0   \n",
       "\n",
       "name     .hack//Liminality  .hack//Quantum  ...  gdgd Fairies 2  \\\n",
       "user_id                                     ...                   \n",
       "1                        0               0  ...               0   \n",
       "2                        0               0  ...               0   \n",
       "3                        0               0  ...               0   \n",
       "4                        0               0  ...               0   \n",
       "5                        0               0  ...               0   \n",
       "6                        0               0  ...               0   \n",
       "7                        0               0  ...               0   \n",
       "8                        0               0  ...               0   \n",
       "9                        0               0  ...               0   \n",
       "10                       0               0  ...               0   \n",
       "\n",
       "name     gdgd Fairies Movie: tte Iu Eiga wa Dou kana...?  \\\n",
       "user_id                                                    \n",
       "1                                                      0   \n",
       "2                                                      0   \n",
       "3                                                      0   \n",
       "4                                                      0   \n",
       "5                                                      0   \n",
       "6                                                      0   \n",
       "7                                                      0   \n",
       "8                                                      0   \n",
       "9                                                      0   \n",
       "10                                                     0   \n",
       "\n",
       "name     iDOLM@STER Xenoglossia  iDOLM@STER Xenoglossia Specials  s.CRY.ed  \\\n",
       "user_id                                                                      \n",
       "1                             0                                0         0   \n",
       "2                             0                                0         0   \n",
       "3                             0                                0         0   \n",
       "4                             0                                0         0   \n",
       "5                             0                                0         0   \n",
       "6                             0                                0         0   \n",
       "7                             0                                0         0   \n",
       "8                             0                                0         0   \n",
       "9                             0                                0         0   \n",
       "10                            0                                0         0   \n",
       "\n",
       "name     xxxHOLiC  xxxHOLiC Kei  xxxHOLiC Movie: Manatsu no Yoru no Yume  \\\n",
       "user_id                                                                    \n",
       "1               0             0                                        0   \n",
       "2               0             0                                        0   \n",
       "3               0             0                                        0   \n",
       "4               0             0                                        0   \n",
       "5               0             0                                        0   \n",
       "6               0             0                                        0   \n",
       "7               0             0                                        0   \n",
       "8               0             0                                        0   \n",
       "9               0             0                                        0   \n",
       "10              0             0                                        0   \n",
       "\n",
       "name     xxxHOLiC Rou  xxxHOLiC Shunmuki  \n",
       "user_id                                   \n",
       "1                   0                  0  \n",
       "2                   0                  0  \n",
       "3                   0                  0  \n",
       "4                   0                  0  \n",
       "5                   0                  0  \n",
       "6                   0                  0  \n",
       "7                   0                  0  \n",
       "8                   0                  0  \n",
       "9                   0                  0  \n",
       "10                  0                  0  \n",
       "\n",
       "[10 rows x 7040 columns]"
      ]
     },
     "execution_count": 20,
     "metadata": {},
     "output_type": "execute_result"
    }
   ],
   "source": [
    "user_anime = pd.crosstab(Data['user_id'], Data['name'])\n",
    "user_anime.head(10)"
   ]
  },
  {
   "cell_type": "markdown",
   "metadata": {
    "papermill": {
     "duration": 0.041305,
     "end_time": "2020-11-11T14:14:48.013917",
     "exception": false,
     "start_time": "2020-11-11T14:14:47.972612",
     "status": "completed"
    },
    "tags": []
   },
   "source": [
    "# Agglomerative Clustering"
   ]
  },
  {
   "cell_type": "markdown",
   "metadata": {
    "papermill": {
     "duration": 0.039964,
     "end_time": "2020-11-11T14:14:48.096170",
     "exception": false,
     "start_time": "2020-11-11T14:14:48.056206",
     "status": "completed"
    },
    "tags": []
   },
   "source": [
    "The hierarchy class has a dendrogram method which takes the value returned by the linkage method of the same class. The linkage method takes the dataset and the method to minimize distances as parameters. We use 'ward' as the method since it minimizes then variants of distances between the clusters."
   ]
  },
  {
   "cell_type": "code",
   "execution_count": 21,
   "metadata": {
    "execution": {
     "iopub.execute_input": "2020-11-11T14:14:48.183973Z",
     "iopub.status.busy": "2020-11-11T14:14:48.183305Z",
     "iopub.status.idle": "2020-11-11T14:23:09.122842Z",
     "shell.execute_reply": "2020-11-11T14:23:09.123382Z"
    },
    "papermill": {
     "duration": 500.987335,
     "end_time": "2020-11-11T14:23:09.123566",
     "exception": false,
     "start_time": "2020-11-11T14:14:48.136231",
     "status": "completed"
    },
    "tags": []
   },
   "outputs": [
    {
     "data": {
      "image/png": "[encoded data removed]",
      "text/plain": [
       "<Figure size 720x504 with 1 Axes>"
      ]
     },
     "metadata": {
      "needs_background": "light"
     },
     "output_type": "display_data"
    }
   ],
   "source": [
    "import scipy.cluster.hierarchy as shc\n",
    "\n",
    "plt.figure(figsize=(10, 7))\n",
    "plt.title(\"Customer Dendograms\")\n",
    "dend = shc.dendrogram(shc.linkage(user_anime, method='ward'))"
   ]
  },
  {
   "cell_type": "markdown",
   "metadata": {
    "papermill": {
     "duration": 0.039856,
     "end_time": "2020-11-11T14:23:09.205041",
     "exception": false,
     "start_time": "2020-11-11T14:23:09.165185",
     "status": "completed"
    },
    "tags": []
   },
   "source": [
    "Now we know the number of clusters for our dataset, the next step is to group the data points into these ten clusters"
   ]
  },
  {
   "cell_type": "code",
   "execution_count": 22,
   "metadata": {
    "execution": {
     "iopub.execute_input": "2020-11-11T14:23:09.312588Z",
     "iopub.status.busy": "2020-11-11T14:23:09.290475Z",
     "iopub.status.idle": "2020-11-11T14:27:33.947580Z",
     "shell.execute_reply": "2020-11-11T14:27:33.948276Z"
    },
    "papermill": {
     "duration": 264.703384,
     "end_time": "2020-11-11T14:27:33.948463",
     "exception": false,
     "start_time": "2020-11-11T14:23:09.245079",
     "status": "completed"
    },
    "tags": []
   },
   "outputs": [
    {
     "data": {
      "text/plain": [
       "array([5, 5, 6, ..., 5, 6, 5])"
      ]
     },
     "execution_count": 22,
     "metadata": {},
     "output_type": "execute_result"
    }
   ],
   "source": [
    "from sklearn.cluster import AgglomerativeClustering\n",
    "\n",
    "cluster = AgglomerativeClustering(n_clusters=10, affinity='euclidean', linkage='ward')\n",
    "cluster.fit_predict(user_anime)\n"
   ]
  },
  {
   "cell_type": "markdown",
   "metadata": {
    "papermill": {
     "duration": 0.062244,
     "end_time": "2020-11-11T14:27:34.074010",
     "exception": false,
     "start_time": "2020-11-11T14:27:34.011766",
     "status": "completed"
    },
    "tags": []
   },
   "source": [
    "You can see the cluster labels from all of your data points. "
   ]
  },
  {
   "cell_type": "code",
   "execution_count": 23,
   "metadata": {
    "execution": {
     "iopub.execute_input": "2020-11-11T14:27:34.222549Z",
     "iopub.status.busy": "2020-11-11T14:27:34.221874Z",
     "iopub.status.idle": "2020-11-11T14:27:34.774112Z",
     "shell.execute_reply": "2020-11-11T14:27:34.773469Z"
    },
    "papermill": {
     "duration": 0.637574,
     "end_time": "2020-11-11T14:27:34.774220",
     "exception": false,
     "start_time": "2020-11-11T14:27:34.136646",
     "status": "completed"
    },
    "tags": []
   },
   "outputs": [
    {
     "data": {
      "text/plain": [
       "<matplotlib.collections.PathCollection at 0x7f2b6e01c410>"
      ]
     },
     "execution_count": 23,
     "metadata": {},
     "output_type": "execute_result"
    },
    {
     "data": {
      "image/png": "[encoded data removed]",
      "text/plain": [
       "<Figure size 720x504 with 1 Axes>"
      ]
     },
     "metadata": {
      "needs_background": "light"
     },
     "output_type": "display_data"
    }
   ],
   "source": [
    "plt.figure(figsize=(10, 7))\n",
    "plt.scatter(user_anime.iloc[:,0], user_anime.iloc[:,1], c=cluster.labels_, cmap='rainbow')"
   ]
  },
  {
   "cell_type": "markdown",
   "metadata": {
    "papermill": {
     "duration": 0.043194,
     "end_time": "2020-11-11T14:27:34.861075",
     "exception": false,
     "start_time": "2020-11-11T14:27:34.817881",
     "status": "completed"
    },
    "tags": []
   },
   "source": [
    "References\n",
    "\n",
    "* [[1](https://nlp.stanford.edu/IR-book/pdf/17hier.pdf)] Hierarchical clustering. DRAFT! © April 1, 2009 Cambridge University Press\n",
    "* [[2](https://towardsdatascience.com/understanding-the-concept-of-hierarchical-clustering-technique-c6e8243758ec)] . Time Complexity Hierarchical clustering\n",
    "* [[3](https://stackabuse.com/hierarchical-clustering-with-python-and-scikit-learn/)] Hierarchical clustering"
   ]
  },
  {
   "cell_type": "markdown",
   "metadata": {
    "papermill": {
     "duration": 0.050148,
     "end_time": "2020-11-11T14:27:34.954789",
     "exception": false,
     "start_time": "2020-11-11T14:27:34.904641",
     "status": "completed"
    },
    "tags": []
   },
   "source": [
    "# On progress :)"
   ]
  }
 ],
 "metadata": {
  "kernelspec": {
   "display_name": "Python 3",
   "language": "python",
   "name": "python3"
  },
  "language_info": {
   "codemirror_mode": {
    "name": "ipython",
    "version": 3
   },
   "file_extension": ".py",
   "mimetype": "text/x-python",
   "name": "python",
   "nbconvert_exporter": "python",
   "pygments_lexer": "ipython3",
   "version": "3.7.6"
  },
  "papermill": {
   "duration": 796.635604,
   "end_time": "2020-11-11T14:27:35.105773",
   "environment_variables": {},
   "exception": null,
   "input_path": "__notebook__.ipynb",
   "output_path": "__notebook__.ipynb",
   "parameters": {},
   "start_time": "2020-11-11T14:14:18.470169",
   "version": "2.1.0"
  }
 },
 "nbformat": 4,
 "nbformat_minor": 4
}
